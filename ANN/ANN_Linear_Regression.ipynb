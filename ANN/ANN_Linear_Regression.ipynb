{
 "cells": [
  {
   "cell_type": "code",
   "execution_count": 38,
   "id": "d1c32823",
   "metadata": {},
   "outputs": [],
   "source": [
    "import torch\n",
    "import torch.nn as nn  # we'll use this a lot going forward!\n",
    "\n",
    "import numpy as np\n",
    "import matplotlib.pyplot as plt\n",
    "%matplotlib inline"
   ]
  },
  {
   "cell_type": "markdown",
   "id": "19d273f7",
   "metadata": {},
   "source": [
    "# Creating a column matrix of X\n"
   ]
  },
  {
   "cell_type": "code",
   "execution_count": 39,
   "id": "40c522a3",
   "metadata": {},
   "outputs": [
    {
     "data": {
      "text/plain": [
       "tensor([[ 1.],\n",
       "        [ 2.],\n",
       "        [ 3.],\n",
       "        [ 4.],\n",
       "        [ 5.],\n",
       "        [ 6.],\n",
       "        [ 7.],\n",
       "        [ 8.],\n",
       "        [ 9.],\n",
       "        [10.],\n",
       "        [11.],\n",
       "        [12.],\n",
       "        [13.],\n",
       "        [14.],\n",
       "        [15.],\n",
       "        [16.],\n",
       "        [17.],\n",
       "        [18.],\n",
       "        [19.],\n",
       "        [20.],\n",
       "        [21.],\n",
       "        [22.],\n",
       "        [23.],\n",
       "        [24.],\n",
       "        [25.],\n",
       "        [26.],\n",
       "        [27.],\n",
       "        [28.],\n",
       "        [29.],\n",
       "        [30.],\n",
       "        [31.],\n",
       "        [32.],\n",
       "        [33.],\n",
       "        [34.],\n",
       "        [35.],\n",
       "        [36.],\n",
       "        [37.],\n",
       "        [38.],\n",
       "        [39.],\n",
       "        [40.],\n",
       "        [41.],\n",
       "        [42.],\n",
       "        [43.],\n",
       "        [44.],\n",
       "        [45.],\n",
       "        [46.],\n",
       "        [47.],\n",
       "        [48.],\n",
       "        [49.],\n",
       "        [50.]])"
      ]
     },
     "execution_count": 39,
     "metadata": {},
     "output_type": "execute_result"
    }
   ],
   "source": [
    "X = torch.linspace(1, 50,50).reshape(-1,1)\n",
    "X"
   ]
  },
  {
   "cell_type": "markdown",
   "id": "8773db9a",
   "metadata": {},
   "source": [
    "# Create a \"random\" array of error values\n",
    "we cant 50 random integer values that collectively cancel each other out"
   ]
  },
  {
   "cell_type": "code",
   "execution_count": 40,
   "id": "2fba7ecd",
   "metadata": {},
   "outputs": [
    {
     "name": "stdout",
     "output_type": "stream",
     "text": [
      "tensor(0.)\n",
      "tensor([[ 2.],\n",
      "        [ 7.],\n",
      "        [ 2.],\n",
      "        [ 6.],\n",
      "        [ 2.],\n",
      "        [-4.],\n",
      "        [ 2.],\n",
      "        [-5.],\n",
      "        [ 4.],\n",
      "        [ 1.],\n",
      "        [ 2.],\n",
      "        [ 3.],\n",
      "        [ 1.],\n",
      "        [-8.],\n",
      "        [ 5.],\n",
      "        [ 5.],\n",
      "        [-6.],\n",
      "        [ 0.],\n",
      "        [-7.],\n",
      "        [-8.],\n",
      "        [-3.],\n",
      "        [-1.],\n",
      "        [ 2.],\n",
      "        [-6.],\n",
      "        [-3.],\n",
      "        [ 3.],\n",
      "        [ 2.],\n",
      "        [ 3.],\n",
      "        [ 4.],\n",
      "        [ 5.],\n",
      "        [ 1.],\n",
      "        [ 7.],\n",
      "        [ 6.],\n",
      "        [-1.],\n",
      "        [-6.],\n",
      "        [-5.],\n",
      "        [-3.],\n",
      "        [ 7.],\n",
      "        [ 0.],\n",
      "        [ 8.],\n",
      "        [-1.],\n",
      "        [-2.],\n",
      "        [ 2.],\n",
      "        [-8.],\n",
      "        [-1.],\n",
      "        [ 6.],\n",
      "        [-8.],\n",
      "        [-3.],\n",
      "        [-7.],\n",
      "        [-2.]])\n"
     ]
    }
   ],
   "source": [
    "torch.manual_seed(71)\n",
    "error = torch.randint(-8, 9, (50,1), dtype=torch.float)\n",
    "\n",
    "print(error.sum())\n",
    "print(error)"
   ]
  },
  {
   "cell_type": "markdown",
   "id": "8eb1720f",
   "metadata": {},
   "source": [
    "# Create a column matrix of y values\n",
    "here weight = 2, bias = 1, plus the error amount. y will have the same shape as X and error.\n"
   ]
  },
  {
   "cell_type": "code",
   "execution_count": 41,
   "id": "eb60f8cb",
   "metadata": {},
   "outputs": [
    {
     "name": "stdout",
     "output_type": "stream",
     "text": [
      "tensor([[ 5.],\n",
      "        [12.],\n",
      "        [ 9.],\n",
      "        [15.],\n",
      "        [13.],\n",
      "        [ 9.],\n",
      "        [17.],\n",
      "        [12.],\n",
      "        [23.],\n",
      "        [22.],\n",
      "        [25.],\n",
      "        [28.],\n",
      "        [28.],\n",
      "        [21.],\n",
      "        [36.],\n",
      "        [38.],\n",
      "        [29.],\n",
      "        [37.],\n",
      "        [32.],\n",
      "        [33.],\n",
      "        [40.],\n",
      "        [44.],\n",
      "        [49.],\n",
      "        [43.],\n",
      "        [48.],\n",
      "        [56.],\n",
      "        [57.],\n",
      "        [60.],\n",
      "        [63.],\n",
      "        [66.],\n",
      "        [64.],\n",
      "        [72.],\n",
      "        [73.],\n",
      "        [68.],\n",
      "        [65.],\n",
      "        [68.],\n",
      "        [72.],\n",
      "        [84.],\n",
      "        [79.],\n",
      "        [89.],\n",
      "        [82.],\n",
      "        [83.],\n",
      "        [89.],\n",
      "        [81.],\n",
      "        [90.],\n",
      "        [99.],\n",
      "        [87.],\n",
      "        [94.],\n",
      "        [92.],\n",
      "        [99.]])\n"
     ]
    }
   ],
   "source": [
    "y = 2*X + 1 + error\n",
    "print(y)"
   ]
  },
  {
   "cell_type": "markdown",
   "id": "448f7277",
   "metadata": {},
   "source": [
    "# Plotting the result\n",
    "We have to conver tensors to Numpy array just for plotting.\n"
   ]
  },
  {
   "cell_type": "code",
   "execution_count": 42,
   "id": "03612c75",
   "metadata": {},
   "outputs": [
    {
     "data": {
      "image/png": "[encoded data removed]",
      "text/plain": [
       "<Figure size 432x288 with 1 Axes>"
      ]
     },
     "metadata": {
      "needs_background": "light"
     },
     "output_type": "display_data"
    }
   ],
   "source": [
    "plt.scatter(X.numpy(), y.numpy())\n",
    "plt.ylabel(\"y\")\n",
    "plt.xlabel(\"x\");"
   ]
  },
  {
   "cell_type": "markdown",
   "id": "132d8054",
   "metadata": {},
   "source": [
    "Note that when we created tensor X, we did not pass requires_grid = True. This means that y doesn't have a gradient function, and y.backward() won't work. Meaning pytorch is not tracking operations, it doesn't know the relationship between X and y."
   ]
  },
  {
   "cell_type": "markdown",
   "id": "0ce4af0a",
   "metadata": {},
   "source": [
    "# Simple linear model"
   ]
  },
  {
   "cell_type": "markdown",
   "id": "012fb7b6",
   "metadata": {},
   "source": [
    "nn.Linear() model preselects weight and bias values at random.\n"
   ]
  },
  {
   "cell_type": "code",
   "execution_count": 43,
   "id": "7cd54c09",
   "metadata": {},
   "outputs": [
    {
     "name": "stdout",
     "output_type": "stream",
     "text": [
      "Parameter containing:\n",
      "tensor([[0.1060]], requires_grad=True)\n",
      "Parameter containing:\n",
      "tensor([0.9638], requires_grad=True)\n"
     ]
    }
   ],
   "source": [
    "torch.manual_seed(59)\n",
    "\n",
    "model = nn.Linear(in_features=1, out_features=1)\n",
    "print(model.weight)\n",
    "print(model.bias)"
   ]
  },
  {
   "cell_type": "markdown",
   "id": "d1e69dbe",
   "metadata": {},
   "source": [
    "So this means, that the models sets a random weight of 0.1060 and a bias of 0.90 without seeing any data. Let's see how that changes."
   ]
  },
  {
   "cell_type": "markdown",
   "id": "79b32878",
   "metadata": {},
   "source": [
    "# Model classes\n",
    "Pytorch lets us define models as object classes that can store multiple model layers. In upcoming sections we'll set up several neural network layers, and determine how each layer should perform its forward pass to the next layer. For now, though, we only need a asingle linear layer."
   ]
  },
  {
   "cell_type": "code",
   "execution_count": 44,
   "id": "3d741bb1",
   "metadata": {},
   "outputs": [],
   "source": [
    "class Model(nn.Module):\n",
    "    def __init__(self, in_features, out_features):\n",
    "        super().__init__()\n",
    "        self.linear = nn.Linear(in_features, out_features)\n",
    "    \n",
    "    def forward(self, x):\n",
    "        y_pred = self.linear(x)\n",
    "        return y_pred"
   ]
  },
  {
   "cell_type": "markdown",
   "id": "acb47120",
   "metadata": {},
   "source": [
    "NOTE: The \"Linear\" model layer used here doesn't really refer to linear regression. Instead, it describes the type of neural network layer employed. Linear layers are also called \"fully connected\" or \"dense\" layers. Going forward our models may contain linear layers, convolutional layers, and more.\n"
   ]
  },
  {
   "cell_type": "markdown",
   "id": "fbb99c1f",
   "metadata": {},
   "source": [
    "When Model is instantiated, we need to pass in the size (dimensions) of the incoming and outgoing features. For our purposes we'll use (1,1).\n",
    "As above, we can see the initial hyperparameters.\n"
   ]
  },
  {
   "cell_type": "code",
   "execution_count": 45,
   "id": "8c610df1",
   "metadata": {},
   "outputs": [
    {
     "name": "stdout",
     "output_type": "stream",
     "text": [
      "Model(\n",
      "  (linear): Linear(in_features=1, out_features=1, bias=True)\n",
      ")\n",
      "Weight: 0.10597813129425049\n",
      "Bias:   0.9637961387634277\n"
     ]
    }
   ],
   "source": [
    "torch.manual_seed(59)\n",
    "model = Model(1, 1)\n",
    "print(model)\n",
    "print('Weight:', model.linear.weight.item())\n",
    "print('Bias:  ', model.linear.bias.item())"
   ]
  },
  {
   "cell_type": "markdown",
   "id": "3a28fe86",
   "metadata": {},
   "source": [
    "As models become more complex, it may be better to iterate over all the model parameters:"
   ]
  },
  {
   "cell_type": "code",
   "execution_count": 46,
   "id": "2aa9eb12",
   "metadata": {},
   "outputs": [
    {
     "name": "stdout",
     "output_type": "stream",
     "text": [
      "linear.weight \t 0.10597813129425049\n",
      "linear.bias \t 0.9637961387634277\n"
     ]
    }
   ],
   "source": [
    "for name, param in model.named_parameters():\n",
    "    print(name, '\\t', param.item())"
   ]
  },
  {
   "cell_type": "markdown",
   "id": "92db738d",
   "metadata": {},
   "source": [
    "Now let's see the results when we pass a tensor into the model.\n"
   ]
  },
  {
   "cell_type": "code",
   "execution_count": 47,
   "id": "d17b21ce",
   "metadata": {},
   "outputs": [
    {
     "name": "stdout",
     "output_type": "stream",
     "text": [
      "tensor([1.1758], grad_fn=<AddBackward0>)\n"
     ]
    }
   ],
   "source": [
    "x = torch.tensor([2.0])\n",
    "print(model.forward(x))"
   ]
  },
  {
   "cell_type": "markdown",
   "id": "4ead7551",
   "metadata": {},
   "source": [
    "which is confirmed with 𝑓(𝑥)=(0.1060)(2.0)+(0.9638)=1.1758\n"
   ]
  },
  {
   "cell_type": "markdown",
   "id": "d8fa93c2",
   "metadata": {},
   "source": [
    "# Plot the initial model\n",
    "we can plot the untrained model against our dataset to get an idea of our starting point."
   ]
  },
  {
   "cell_type": "code",
   "execution_count": 48,
   "id": "2f16e132",
   "metadata": {},
   "outputs": [],
   "source": [
    "x1 = np.array([X.min(),X.max()])\n",
    "w1,b1 = model.linear.weight.item(), model.linear.bias.item()\n",
    "y1 = x1*w1 + b1"
   ]
  },
  {
   "cell_type": "code",
   "execution_count": 49,
   "id": "921fe648",
   "metadata": {},
   "outputs": [
    {
     "data": {
      "image/png": "[encoded data removed]",
      "text/plain": [
       "<Figure size 432x288 with 1 Axes>"
      ]
     },
     "metadata": {
      "needs_background": "light"
     },
     "output_type": "display_data"
    }
   ],
   "source": [
    "plt.scatter(X.numpy(), y.numpy())\n",
    "plt.plot(x1,y1,'r')\n",
    "plt.title('Initial Model')\n",
    "plt.ylabel('y')\n",
    "plt.xlabel('x');"
   ]
  },
  {
   "cell_type": "markdown",
   "id": "675eeb76",
   "metadata": {},
   "source": [
    "# Set the loss function\n",
    "𝑀𝑆𝐸=1𝑛∑𝑖=1𝑛(𝑦𝑖−𝑦̂ 𝑖)2=1𝑛∑𝑖=1𝑛(𝑦𝑖−(𝑤𝑥𝑖+𝑏))2"
   ]
  },
  {
   "cell_type": "code",
   "execution_count": 50,
   "id": "c7650443",
   "metadata": {},
   "outputs": [],
   "source": [
    "linear_loss_func = nn.MSELoss()"
   ]
  },
  {
   "cell_type": "markdown",
   "id": "4e88c0e2",
   "metadata": {},
   "source": [
    "# Set the optimization\n",
    "Here we'll use Stochastic Gradient Descent (SGD) with an applied learning rate (lr) of 0.001. Recall that the learning rate tells the optimizer how much to adjust each parameter on the next round of calculations. Too large a step and we run the risk of overshooting the minimum, causing the algorithm to diverge. Too small and it will take a long time to converge."
   ]
  },
  {
   "cell_type": "code",
   "execution_count": 51,
   "id": "1931258c",
   "metadata": {},
   "outputs": [],
   "source": [
    "optimizer = torch.optim.SGD(model.parameters(), lr = 0.001) "
   ]
  },
  {
   "cell_type": "markdown",
   "id": "aba86478",
   "metadata": {},
   "source": [
    "# Training the model\n",
    "An epoch is a single pass through the entire dataset. We want to pick a sufficiently large number of epochs to reach a plateau close to our known parameters of weight=2,bias=1"
   ]
  },
  {
   "cell_type": "markdown",
   "id": "6dfa8e3d",
   "metadata": {},
   "source": [
    "Let's walk through the steps we're about to take:\n",
    "\n",
    "    Set a reasonably large number of passes\n",
    "    epochs = 50\n",
    "    Create a list to store loss values. This will let us view our progress afterward.\n",
    "    losses = []\n",
    "    for i in range(epochs):\n",
    "    Bump \"i\" so that the printed report starts at 1\n",
    "        i+=1\n",
    "    Create a prediction set by running \"X\" through the current model parameters\n",
    "        y_pred = model.forward(X)\n",
    "    Calculate the loss\n",
    "        loss = criterion(y_pred, y)\n",
    "    Add the loss value to our tracking list\n",
    "        losses.append(loss)\n",
    "    Print the current line of results\n",
    "        print(f'epoch: {i:2} loss: {loss.item():10.8f}')\n",
    "    Gradients accumulate with every backprop. To prevent compounding we need to reset the stored gradient for each new epoch.\n",
    "        optimizer.zero_grad()\n",
    "    Now we can backprop\n",
    "        loss.backward()\n",
    "    Finally, we can update the hyperparameters of our model\n",
    "        optimizer.step()\n",
    "\n"
   ]
  },
  {
   "cell_type": "code",
   "execution_count": 52,
   "id": "27b6fe1b",
   "metadata": {},
   "outputs": [
    {
     "name": "stdout",
     "output_type": "stream",
     "text": [
      "epoch:  1  loss: 3057.21679688  weight: 0.10597813  bias: 0.96379614\n",
      "epoch:  2  loss: 1588.53112793  weight: 3.33490038  bias: 1.06046367\n",
      "epoch:  3  loss: 830.29998779  weight: 1.01483274  bias: 0.99226284\n",
      "epoch:  4  loss: 438.85241699  weight: 2.68179965  bias: 1.04252183\n",
      "epoch:  5  loss: 236.76152039  weight: 1.48402119  bias: 1.00766504\n",
      "epoch:  6  loss: 132.42912292  weight: 2.34460592  bias: 1.03396463\n",
      "epoch:  7  loss: 78.56572723  weight: 1.72622538  bias: 1.01632178\n",
      "epoch:  8  loss: 50.75775909  weight: 2.17050409  bias: 1.03025162\n",
      "epoch:  9  loss: 36.40125656  weight: 1.85124564  bias: 1.02149546\n",
      "epoch: 10  loss: 28.98922920  weight: 2.08060074  bias: 1.02903891\n",
      "epoch: 11  loss: 25.16238213  weight: 1.91576838  bias: 1.02487016\n",
      "epoch: 12  loss: 23.18647385  weight: 2.03416562  bias: 1.02911627\n",
      "epoch: 13  loss: 22.16612625  weight: 1.94905841  bias: 1.02731562\n",
      "epoch: 14  loss: 21.63911057  weight: 2.01017213  bias: 1.02985907\n",
      "epoch: 15  loss: 21.36677170  weight: 1.96622372  bias: 1.02928054\n",
      "epoch: 16  loss: 21.22591782  weight: 1.99776423  bias: 1.03094459\n",
      "epoch: 17  loss: 21.15294647  weight: 1.97506487  bias: 1.03099668\n",
      "epoch: 18  loss: 21.11500931  weight: 1.99133754  bias: 1.03220642\n",
      "epoch: 19  loss: 21.09517670  weight: 1.97960854  bias: 1.03258383\n",
      "epoch: 20  loss: 21.08468437  weight: 1.98799884  bias: 1.03355861\n",
      "epoch: 21  loss: 21.07901382  weight: 1.98193336  bias: 1.03410351\n",
      "epoch: 22  loss: 21.07583046  weight: 1.98625445  bias: 1.03495669\n",
      "epoch: 23  loss: 21.07393837  weight: 1.98311269  bias: 1.03558779\n",
      "epoch: 24  loss: 21.07270050  weight: 1.98533309  bias: 1.03637791\n",
      "epoch: 25  loss: 21.07181931  weight: 1.98370099  bias: 1.03705311\n",
      "epoch: 26  loss: 21.07110596  weight: 1.98483658  bias: 1.03781021\n",
      "epoch: 27  loss: 21.07048607  weight: 1.98398376  bias: 1.03850794\n",
      "epoch: 28  loss: 21.06991386  weight: 1.98455977  bias: 1.03924775\n",
      "epoch: 29  loss: 21.06936836  weight: 1.98410904  bias: 1.03995669\n",
      "epoch: 30  loss: 21.06883812  weight: 1.98439610  bias: 1.04068720\n",
      "epoch: 31  loss: 21.06830788  weight: 1.98415291  bias: 1.04140162\n",
      "epoch: 32  loss: 21.06778145  weight: 1.98429084  bias: 1.04212701\n",
      "epoch: 33  loss: 21.06726074  weight: 1.98415494  bias: 1.04284394\n",
      "epoch: 34  loss: 21.06674004  weight: 1.98421574  bias: 1.04356635\n",
      "epoch: 35  loss: 21.06622505  weight: 1.98413551  bias: 1.04428422\n",
      "epoch: 36  loss: 21.06570816  weight: 1.98415649  bias: 1.04500473\n",
      "epoch: 37  loss: 21.06518745  weight: 1.98410451  bias: 1.04572272\n",
      "epoch: 38  loss: 21.06466866  weight: 1.98410523  bias: 1.04644191\n",
      "epoch: 39  loss: 21.06415749  weight: 1.98406804  bias: 1.04715967\n",
      "epoch: 40  loss: 21.06363678  weight: 1.98405814  bias: 1.04787791\n",
      "epoch: 41  loss: 21.06312561  weight: 1.98402870  bias: 1.04859519\n",
      "epoch: 42  loss: 21.06260681  weight: 1.98401320  bias: 1.04931259\n",
      "epoch: 43  loss: 21.06209564  weight: 1.98398757  bias: 1.05002928\n",
      "epoch: 44  loss: 21.06157684  weight: 1.98396957  bias: 1.05074584\n",
      "epoch: 45  loss: 21.06106949  weight: 1.98394585  bias: 1.05146194\n",
      "epoch: 46  loss: 21.06055450  weight: 1.98392630  bias: 1.05217779\n",
      "epoch: 47  loss: 21.06004333  weight: 1.98390377  bias: 1.05289316\n",
      "epoch: 48  loss: 21.05953217  weight: 1.98388338  bias: 1.05360830\n",
      "epoch: 49  loss: 21.05901337  weight: 1.98386145  bias: 1.05432308\n",
      "epoch: 50  loss: 21.05850983  weight: 1.98384094  bias: 1.05503750\n"
     ]
    },
    {
     "data": {
      "text/plain": [
       "[tensor(3057.2168, grad_fn=<MseLossBackward>),\n",
       " tensor(1588.5311, grad_fn=<MseLossBackward>),\n",
       " tensor(830.3000, grad_fn=<MseLossBackward>),\n",
       " tensor(438.8524, grad_fn=<MseLossBackward>),\n",
       " tensor(236.7615, grad_fn=<MseLossBackward>),\n",
       " tensor(132.4291, grad_fn=<MseLossBackward>),\n",
       " tensor(78.5657, grad_fn=<MseLossBackward>),\n",
       " tensor(50.7578, grad_fn=<MseLossBackward>),\n",
       " tensor(36.4013, grad_fn=<MseLossBackward>),\n",
       " tensor(28.9892, grad_fn=<MseLossBackward>),\n",
       " tensor(25.1624, grad_fn=<MseLossBackward>),\n",
       " tensor(23.1865, grad_fn=<MseLossBackward>),\n",
       " tensor(22.1661, grad_fn=<MseLossBackward>),\n",
       " tensor(21.6391, grad_fn=<MseLossBackward>),\n",
       " tensor(21.3668, grad_fn=<MseLossBackward>),\n",
       " tensor(21.2259, grad_fn=<MseLossBackward>),\n",
       " tensor(21.1529, grad_fn=<MseLossBackward>),\n",
       " tensor(21.1150, grad_fn=<MseLossBackward>),\n",
       " tensor(21.0952, grad_fn=<MseLossBackward>),\n",
       " tensor(21.0847, grad_fn=<MseLossBackward>),\n",
       " tensor(21.0790, grad_fn=<MseLossBackward>),\n",
       " tensor(21.0758, grad_fn=<MseLossBackward>),\n",
       " tensor(21.0739, grad_fn=<MseLossBackward>),\n",
       " tensor(21.0727, grad_fn=<MseLossBackward>),\n",
       " tensor(21.0718, grad_fn=<MseLossBackward>),\n",
       " tensor(21.0711, grad_fn=<MseLossBackward>),\n",
       " tensor(21.0705, grad_fn=<MseLossBackward>),\n",
       " tensor(21.0699, grad_fn=<MseLossBackward>),\n",
       " tensor(21.0694, grad_fn=<MseLossBackward>),\n",
       " tensor(21.0688, grad_fn=<MseLossBackward>),\n",
       " tensor(21.0683, grad_fn=<MseLossBackward>),\n",
       " tensor(21.0678, grad_fn=<MseLossBackward>),\n",
       " tensor(21.0673, grad_fn=<MseLossBackward>),\n",
       " tensor(21.0667, grad_fn=<MseLossBackward>),\n",
       " tensor(21.0662, grad_fn=<MseLossBackward>),\n",
       " tensor(21.0657, grad_fn=<MseLossBackward>),\n",
       " tensor(21.0652, grad_fn=<MseLossBackward>),\n",
       " tensor(21.0647, grad_fn=<MseLossBackward>),\n",
       " tensor(21.0642, grad_fn=<MseLossBackward>),\n",
       " tensor(21.0636, grad_fn=<MseLossBackward>),\n",
       " tensor(21.0631, grad_fn=<MseLossBackward>),\n",
       " tensor(21.0626, grad_fn=<MseLossBackward>),\n",
       " tensor(21.0621, grad_fn=<MseLossBackward>),\n",
       " tensor(21.0616, grad_fn=<MseLossBackward>),\n",
       " tensor(21.0611, grad_fn=<MseLossBackward>),\n",
       " tensor(21.0606, grad_fn=<MseLossBackward>),\n",
       " tensor(21.0600, grad_fn=<MseLossBackward>),\n",
       " tensor(21.0595, grad_fn=<MseLossBackward>),\n",
       " tensor(21.0590, grad_fn=<MseLossBackward>),\n",
       " tensor(21.0585, grad_fn=<MseLossBackward>)]"
      ]
     },
     "execution_count": 52,
     "metadata": {},
     "output_type": "execute_result"
    }
   ],
   "source": [
    "epochs = 50\n",
    "losses = []\n",
    "\n",
    "for i in range(epochs):\n",
    "    i+=1\n",
    "    y_pred = model.forward(X)\n",
    "    loss = linear_loss_func(y_pred, y)\n",
    "    losses.append(loss)\n",
    "    print(f'epoch: {i:2}  loss: {loss.item():10.8f}  weight: {model.linear.weight.item():10.8f}  \\\n",
    "bias: {model.linear.bias.item():10.8f}') \n",
    "    optimizer.zero_grad()\n",
    "    loss.backward()\n",
    "    optimizer.step()\n",
    "losses"
   ]
  },
  {
   "cell_type": "markdown",
   "id": "82a11d2d",
   "metadata": {},
   "source": [
    "# Plot the results of losses"
   ]
  },
  {
   "cell_type": "code",
   "execution_count": 66,
   "id": "b9f110e5",
   "metadata": {},
   "outputs": [
    {
     "data": {
      "image/png": "[encoded data removed]",
      "text/plain": [
       "<Figure size 432x288 with 1 Axes>"
      ]
     },
     "metadata": {
      "needs_background": "light"
     },
     "output_type": "display_data"
    }
   ],
   "source": [
    "final_loss = [fl.item() for fl in losses ]\n",
    "plt.plot(range(epochs), final_loss)\n",
    "plt.ylabel('Loss')\n",
    "plt.xlabel('epoch');"
   ]
  },
  {
   "cell_type": "markdown",
   "id": "e40469f6",
   "metadata": {},
   "source": [
    "# Final results"
   ]
  },
  {
   "cell_type": "code",
   "execution_count": 67,
   "id": "13ea144a",
   "metadata": {},
   "outputs": [
    {
     "name": "stdout",
     "output_type": "stream",
     "text": [
      "Current weight: 1.98381913, Current bias: 1.05575156\n",
      "\n",
      "[ 1. 50.]\n",
      "[  3.0395708 100.246704 ]\n"
     ]
    }
   ],
   "source": [
    "w1,b1 = model.linear.weight.item(), model.linear.bias.item()\n",
    "print(f'Current weight: {w1:.8f}, Current bias: {b1:.8f}')\n",
    "print()\n",
    "\n",
    "y1 = x1*w1 + b1\n",
    "print(x1)\n",
    "print(y1)"
   ]
  },
  {
   "cell_type": "code",
   "execution_count": 68,
   "id": "338b6efe",
   "metadata": {},
   "outputs": [
    {
     "data": {
      "image/png": "[encoded data removed]",
      "text/plain": [
       "<Figure size 432x288 with 1 Axes>"
      ]
     },
     "metadata": {
      "needs_background": "light"
     },
     "output_type": "display_data"
    }
   ],
   "source": [
    "plt.scatter(X.numpy(), y.numpy())\n",
    "plt.plot(x1,y1,'r')\n",
    "plt.title('Current Model')\n",
    "plt.ylabel('y')\n",
    "plt.xlabel('x');"
   ]
  },
  {
   "cell_type": "markdown",
   "id": "f206704d",
   "metadata": {},
   "source": [
    "# Finish."
   ]
  },
  {
   "cell_type": "code",
   "execution_count": null,
   "id": "99460eb2",
   "metadata": {},
   "outputs": [],
   "source": []
  }
 ],
 "metadata": {
  "kernelspec": {
   "display_name": "Python 3.9.4 64-bit",
   "language": "python",
   "name": "python394jvsc74a57bd0aee8b7b246df8f9039afb4144a1f6fd8d2ca17a180786b69acc140d282b71a49"
  },
  "language_info": {
   "codemirror_mode": {
    "name": "ipython",
    "version": 3
   },
   "file_extension": ".py",
   "mimetype": "text/x-python",
   "name": "python",
   "nbconvert_exporter": "python",
   "pygments_lexer": "ipython3",
   "version": "3.9.4"
  }
 },
 "nbformat": 4,
 "nbformat_minor": 5
}
