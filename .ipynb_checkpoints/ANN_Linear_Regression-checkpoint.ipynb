{
 "cells": [
  {
   "cell_type": "code",
   "execution_count": 3,
   "id": "d1c32823",
   "metadata": {},
   "outputs": [],
   "source": [
    "import torch\n",
    "import torch.nn as nn  # we'll use this a lot going forward!\n",
    "\n",
    "import numpy as np\n",
    "import matplotlib.pyplot as plt\n",
    "%matplotlib inline"
   ]
  },
  {
   "cell_type": "markdown",
   "id": "19d273f7",
   "metadata": {},
   "source": [
    "# Creating a column matrix of X\n"
   ]
  },
  {
   "cell_type": "code",
   "execution_count": 4,
   "id": "40c522a3",
   "metadata": {},
   "outputs": [
    {
     "data": {
      "text/plain": [
       "tensor([[ 1.],\n",
       "        [ 2.],\n",
       "        [ 3.],\n",
       "        [ 4.],\n",
       "        [ 5.],\n",
       "        [ 6.],\n",
       "        [ 7.],\n",
       "        [ 8.],\n",
       "        [ 9.],\n",
       "        [10.],\n",
       "        [11.],\n",
       "        [12.],\n",
       "        [13.],\n",
       "        [14.],\n",
       "        [15.],\n",
       "        [16.],\n",
       "        [17.],\n",
       "        [18.],\n",
       "        [19.],\n",
       "        [20.],\n",
       "        [21.],\n",
       "        [22.],\n",
       "        [23.],\n",
       "        [24.],\n",
       "        [25.],\n",
       "        [26.],\n",
       "        [27.],\n",
       "        [28.],\n",
       "        [29.],\n",
       "        [30.],\n",
       "        [31.],\n",
       "        [32.],\n",
       "        [33.],\n",
       "        [34.],\n",
       "        [35.],\n",
       "        [36.],\n",
       "        [37.],\n",
       "        [38.],\n",
       "        [39.],\n",
       "        [40.],\n",
       "        [41.],\n",
       "        [42.],\n",
       "        [43.],\n",
       "        [44.],\n",
       "        [45.],\n",
       "        [46.],\n",
       "        [47.],\n",
       "        [48.],\n",
       "        [49.],\n",
       "        [50.]])"
      ]
     },
     "execution_count": 4,
     "metadata": {},
     "output_type": "execute_result"
    }
   ],
   "source": [
    "X = torch.linspace(1, 50,50).reshape(-1,1)\n",
    "X"
   ]
  },
  {
   "cell_type": "markdown",
   "id": "8773db9a",
   "metadata": {},
   "source": [
    "# Create a \"random\" array of error values\n",
    "we cant 50 random integer values that collectively cancel each other out"
   ]
  },
  {
   "cell_type": "code",
   "execution_count": 9,
   "id": "2fba7ecd",
   "metadata": {},
   "outputs": [
    {
     "name": "stdout",
     "output_type": "stream",
     "text": [
      "tensor(0.)\n",
      "tensor([[ 2.],\n",
      "        [ 7.],\n",
      "        [ 2.],\n",
      "        [ 6.],\n",
      "        [ 2.],\n",
      "        [-4.],\n",
      "        [ 2.],\n",
      "        [-5.],\n",
      "        [ 4.],\n",
      "        [ 1.],\n",
      "        [ 2.],\n",
      "        [ 3.],\n",
      "        [ 1.],\n",
      "        [-8.],\n",
      "        [ 5.],\n",
      "        [ 5.],\n",
      "        [-6.],\n",
      "        [ 0.],\n",
      "        [-7.],\n",
      "        [-8.],\n",
      "        [-3.],\n",
      "        [-1.],\n",
      "        [ 2.],\n",
      "        [-6.],\n",
      "        [-3.],\n",
      "        [ 3.],\n",
      "        [ 2.],\n",
      "        [ 3.],\n",
      "        [ 4.],\n",
      "        [ 5.],\n",
      "        [ 1.],\n",
      "        [ 7.],\n",
      "        [ 6.],\n",
      "        [-1.],\n",
      "        [-6.],\n",
      "        [-5.],\n",
      "        [-3.],\n",
      "        [ 7.],\n",
      "        [ 0.],\n",
      "        [ 8.],\n",
      "        [-1.],\n",
      "        [-2.],\n",
      "        [ 2.],\n",
      "        [-8.],\n",
      "        [-1.],\n",
      "        [ 6.],\n",
      "        [-8.],\n",
      "        [-3.],\n",
      "        [-7.],\n",
      "        [-2.]])\n"
     ]
    }
   ],
   "source": [
    "torch.manual_seed(71)\n",
    "error = torch.randint(-8, 9, (50,1), dtype=torch.float)\n",
    "\n",
    "print(error.sum())\n",
    "print(error)"
   ]
  },
  {
   "cell_type": "markdown",
   "id": "8eb1720f",
   "metadata": {},
   "source": [
    "# Create a column matrix of y values\n",
    "here weight = 2, bias = 1, plus the error amount. y will have the same shape as X and error.\n"
   ]
  },
  {
   "cell_type": "code",
   "execution_count": 12,
   "id": "eb60f8cb",
   "metadata": {},
   "outputs": [
    {
     "name": "stdout",
     "output_type": "stream",
     "text": [
      "tensor([[ 5.],\n",
      "        [12.],\n",
      "        [ 9.],\n",
      "        [15.],\n",
      "        [13.],\n",
      "        [ 9.],\n",
      "        [17.],\n",
      "        [12.],\n",
      "        [23.],\n",
      "        [22.],\n",
      "        [25.],\n",
      "        [28.],\n",
      "        [28.],\n",
      "        [21.],\n",
      "        [36.],\n",
      "        [38.],\n",
      "        [29.],\n",
      "        [37.],\n",
      "        [32.],\n",
      "        [33.],\n",
      "        [40.],\n",
      "        [44.],\n",
      "        [49.],\n",
      "        [43.],\n",
      "        [48.],\n",
      "        [56.],\n",
      "        [57.],\n",
      "        [60.],\n",
      "        [63.],\n",
      "        [66.],\n",
      "        [64.],\n",
      "        [72.],\n",
      "        [73.],\n",
      "        [68.],\n",
      "        [65.],\n",
      "        [68.],\n",
      "        [72.],\n",
      "        [84.],\n",
      "        [79.],\n",
      "        [89.],\n",
      "        [82.],\n",
      "        [83.],\n",
      "        [89.],\n",
      "        [81.],\n",
      "        [90.],\n",
      "        [99.],\n",
      "        [87.],\n",
      "        [94.],\n",
      "        [92.],\n",
      "        [99.]])\n"
     ]
    }
   ],
   "source": [
    "y = 2*X + 1 + error\n",
    "print(y)"
   ]
  },
  {
   "cell_type": "markdown",
   "id": "448f7277",
   "metadata": {},
   "source": [
    "# Plotting the result\n",
    "We have to conver tensors to Numpy array just for plotting.\n"
   ]
  },
  {
   "cell_type": "code",
   "execution_count": 13,
   "id": "03612c75",
   "metadata": {},
   "outputs": [
    {
     "data": {
      "image/png": "[encoded data removed]",
      "text/plain": [
       "<Figure size 432x288 with 1 Axes>"
      ]
     },
     "metadata": {
      "needs_background": "light"
     },
     "output_type": "display_data"
    }
   ],
   "source": [
    "plt.scatter(X.numpy(), y.numpy())\n",
    "plt.ylabel(\"y\")\n",
    "plt.xlabel(\"x\");"
   ]
  },
  {
   "cell_type": "markdown",
   "id": "132d8054",
   "metadata": {},
   "source": [
    "Note that when we created tensor X, we did not pass requires_grid = True. This means that y doesn't have a gradient function, and y.backward() won't work. Meaning pytorch is not tracking operations, it doesn't know the relationship between X and y."
   ]
  },
  {
   "cell_type": "markdown",
   "id": "0ce4af0a",
   "metadata": {},
   "source": [
    "# Simple linear model"
   ]
  },
  {
   "cell_type": "markdown",
   "id": "012fb7b6",
   "metadata": {},
   "source": [
    "nn.Linear() model preselects weight and bias values at random.\n"
   ]
  },
  {
   "cell_type": "code",
   "execution_count": 14,
   "id": "7cd54c09",
   "metadata": {},
   "outputs": [
    {
     "name": "stdout",
     "output_type": "stream",
     "text": [
      "Parameter containing:\n",
      "tensor([[0.1060]], requires_grad=True)\n",
      "Parameter containing:\n",
      "tensor([0.9638], requires_grad=True)\n"
     ]
    }
   ],
   "source": [
    "torch.manual_seed(59)\n",
    "\n",
    "model = nn.Linear(in_features=1, out_features=1)\n",
    "print(model.weight)\n",
    "print(model.bias)"
   ]
  },
  {
   "cell_type": "markdown",
   "id": "d1e69dbe",
   "metadata": {},
   "source": [
    "So this means, that the models sets a random weight of 0.1060 and a bias of 0.90 without seeing any data. Let's see how that changes."
   ]
  },
  {
   "cell_type": "markdown",
   "id": "79b32878",
   "metadata": {},
   "source": [
    "# Model classes\n",
    "Pytorch lets us define models as object classes that can store multiple model layers. In upcoming sections we'll set up several neural network layers, and determine how each layer should perform its forward pass to the next layer. For now, though, we only need a asingle linear layer."
   ]
  },
  {
   "cell_type": "code",
   "execution_count": 15,
   "id": "3d741bb1",
   "metadata": {},
   "outputs": [],
   "source": [
    "class Model(nn.Module):\n",
    "    def __init__(self, in_features, out_features):\n",
    "        super().__init__()\n",
    "        self.linear = nn.Linear(in_features, out_features)\n",
    "    \n",
    "    def forward(self, x):\n",
    "        y_pred = self.linear(x)\n",
    "        return y_pred"
   ]
  },
  {
   "cell_type": "markdown",
   "id": "acb47120",
   "metadata": {},
   "source": [
    "NOTE: The \"Linear\" model layer used here doesn't really refer to linear regression. Instead, it describes the type of neural network layer employed. Linear layers are also called \"fully connected\" or \"dense\" layers. Going forward our models may contain linear layers, convolutional layers, and more.\n"
   ]
  },
  {
   "cell_type": "markdown",
   "id": "fbb99c1f",
   "metadata": {},
   "source": [
    "When Model is instantiated, we need to pass in the size (dimensions) of the incoming and outgoing features. For our purposes we'll use (1,1).\n",
    "As above, we can see the initial hyperparameters.\n"
   ]
  },
  {
   "cell_type": "code",
   "execution_count": 16,
   "id": "8c610df1",
   "metadata": {},
   "outputs": [
    {
     "name": "stdout",
     "output_type": "stream",
     "text": [
      "Model(\n",
      "  (linear): Linear(in_features=1, out_features=1, bias=True)\n",
      ")\n",
      "Weight: 0.10597813129425049\n",
      "Bias:   0.9637961387634277\n"
     ]
    }
   ],
   "source": [
    "torch.manual_seed(59)\n",
    "model = Model(1, 1)\n",
    "print(model)\n",
    "print('Weight:', model.linear.weight.item())\n",
    "print('Bias:  ', model.linear.bias.item())"
   ]
  },
  {
   "cell_type": "markdown",
   "id": "3a28fe86",
   "metadata": {},
   "source": [
    "As models become more complex, it may be better to iterate over all the model parameters:"
   ]
  },
  {
   "cell_type": "code",
   "execution_count": 17,
   "id": "2aa9eb12",
   "metadata": {},
   "outputs": [
    {
     "name": "stdout",
     "output_type": "stream",
     "text": [
      "linear.weight \t 0.10597813129425049\n",
      "linear.bias \t 0.9637961387634277\n"
     ]
    }
   ],
   "source": [
    "for name, param in model.named_parameters():\n",
    "    print(name, '\\t', param.item())"
   ]
  },
  {
   "cell_type": "markdown",
   "id": "92db738d",
   "metadata": {},
   "source": [
    "Now let's see the results when we pass a tensor into the model.\n"
   ]
  },
  {
   "cell_type": "code",
   "execution_count": 18,
   "id": "d17b21ce",
   "metadata": {},
   "outputs": [
    {
     "name": "stdout",
     "output_type": "stream",
     "text": [
      "tensor([1.1758], grad_fn=<AddBackward0>)\n"
     ]
    }
   ],
   "source": [
    "x = torch.tensor([2.0])\n",
    "print(model.forward(x))"
   ]
  },
  {
   "cell_type": "markdown",
   "id": "4ead7551",
   "metadata": {},
   "source": [
    "which is confirmed with 𝑓(𝑥)=(0.1060)(2.0)+(0.9638)=1.1758\n"
   ]
  },
  {
   "cell_type": "markdown",
   "id": "d8fa93c2",
   "metadata": {},
   "source": [
    "# Plot the initial model\n",
    "we can plot the untrained model against our dataset to get an idea of our starting point."
   ]
  },
  {
   "cell_type": "code",
   "execution_count": 19,
   "id": "2f16e132",
   "metadata": {},
   "outputs": [],
   "source": [
    "x1 = np.array([X.min(),X.max()])\n",
    "w1,b1 = model.linear.weight.item(), model.linear.bias.item()\n",
    "y1 = x1*w1 + b1"
   ]
  },
  {
   "cell_type": "code",
   "execution_count": 20,
   "id": "921fe648",
   "metadata": {},
   "outputs": [
    {
     "data": {
      "image/png": "[encoded data removed]",
      "text/plain": [
       "<Figure size 432x288 with 1 Axes>"
      ]
     },
     "metadata": {
      "needs_background": "light"
     },
     "output_type": "display_data"
    }
   ],
   "source": [
    "plt.scatter(X.numpy(), y.numpy())\n",
    "plt.plot(x1,y1,'r')\n",
    "plt.title('Initial Model')\n",
    "plt.ylabel('y')\n",
    "plt.xlabel('x');"
   ]
  },
  {
   "cell_type": "markdown",
   "id": "675eeb76",
   "metadata": {},
   "source": [
    "# Set the loss function\n",
    "𝑀𝑆𝐸=1𝑛∑𝑖=1𝑛(𝑦𝑖−𝑦̂ 𝑖)2=1𝑛∑𝑖=1𝑛(𝑦𝑖−(𝑤𝑥𝑖+𝑏))2"
   ]
  },
  {
   "cell_type": "code",
   "execution_count": 21,
   "id": "c7650443",
   "metadata": {},
   "outputs": [],
   "source": [
    "linear_loss_func = nn.MSELoss()"
   ]
  },
  {
   "cell_type": "markdown",
   "id": "4e88c0e2",
   "metadata": {},
   "source": [
    "# Set the optimization\n",
    "Here we'll use Stochastic Gradient Descent (SGD) with an applied learning rate (lr) of 0.001. Recall that the learning rate tells the optimizer how much to adjust each parameter on the next round of calculations. Too large a step and we run the risk of overshooting the minimum, causing the algorithm to diverge. Too small and it will take a long time to converge."
   ]
  },
  {
   "cell_type": "code",
   "execution_count": 22,
   "id": "1931258c",
   "metadata": {},
   "outputs": [],
   "source": [
    "optimizer = torch.optim.SGD(model.parameters(), lr = 0.001) "
   ]
  },
  {
   "cell_type": "markdown",
   "id": "aba86478",
   "metadata": {},
   "source": [
    "# Training the model\n",
    "An epoch is a single pass through the entire dataset. We want to pick a sufficiently large number of epochs to reach a plateau close to our known parameters of weight=2,bias=1"
   ]
  },
  {
   "cell_type": "markdown",
   "id": "6dfa8e3d",
   "metadata": {},
   "source": [
    "Let's walk through the steps we're about to take:\n",
    "\n",
    "    Set a reasonably large number of passes\n",
    "    epochs = 50\n",
    "    Create a list to store loss values. This will let us view our progress afterward.\n",
    "    losses = []\n",
    "    for i in range(epochs):\n",
    "    Bump \"i\" so that the printed report starts at 1\n",
    "        i+=1\n",
    "    Create a prediction set by running \"X\" through the current model parameters\n",
    "        y_pred = model.forward(X)\n",
    "    Calculate the loss\n",
    "        loss = criterion(y_pred, y)\n",
    "    Add the loss value to our tracking list\n",
    "        losses.append(loss)\n",
    "    Print the current line of results\n",
    "        print(f'epoch: {i:2} loss: {loss.item():10.8f}')\n",
    "    Gradients accumulate with every backprop. To prevent compounding we need to reset the stored gradient for each new epoch.\n",
    "        optimizer.zero_grad()\n",
    "    Now we can backprop\n",
    "        loss.backward()\n",
    "    Finally, we can update the hyperparameters of our model\n",
    "        optimizer.step()\n",
    "\n"
   ]
  },
  {
   "cell_type": "code",
   "execution_count": 28,
   "id": "27b6fe1b",
   "metadata": {},
   "outputs": [
    {
     "name": "stdout",
     "output_type": "stream",
     "text": [
      "epoch:  1  loss: 21.05800056  weight: 1.98381913  bias: 1.05575156\n",
      "epoch:  2  loss: 21.05748940  weight: 1.98379850  bias: 1.05646527\n",
      "epoch:  3  loss: 21.05697823  weight: 1.98377669  bias: 1.05717862\n",
      "epoch:  4  loss: 21.05646896  weight: 1.98375595  bias: 1.05789161\n",
      "epoch:  5  loss: 21.05595970  weight: 1.98373449  bias: 1.05860424\n",
      "epoch:  6  loss: 21.05545807  weight: 1.98371363  bias: 1.05931652\n",
      "epoch:  7  loss: 21.05495071  weight: 1.98369217  bias: 1.06002843\n",
      "epoch:  8  loss: 21.05444336  weight: 1.98367131  bias: 1.06074011\n",
      "epoch:  9  loss: 21.05393600  weight: 1.98364997  bias: 1.06145144\n",
      "epoch: 10  loss: 21.05343437  weight: 1.98362887  bias: 1.06216240\n",
      "epoch: 11  loss: 21.05292511  weight: 1.98360777  bias: 1.06287301\n",
      "epoch: 12  loss: 21.05242157  weight: 1.98358667  bias: 1.06358325\n",
      "epoch: 13  loss: 21.05191803  weight: 1.98356557  bias: 1.06429315\n",
      "epoch: 14  loss: 21.05141449  weight: 1.98354459  bias: 1.06500268\n",
      "epoch: 15  loss: 21.05091095  weight: 1.98352337  bias: 1.06571186\n",
      "epoch: 16  loss: 21.05040359  weight: 1.98350239  bias: 1.06642079\n",
      "epoch: 17  loss: 21.04990196  weight: 1.98348129  bias: 1.06712937\n",
      "epoch: 18  loss: 21.04940033  weight: 1.98346019  bias: 1.06783760\n",
      "epoch: 19  loss: 21.04889679  weight: 1.98343921  bias: 1.06854546\n",
      "epoch: 20  loss: 21.04839897  weight: 1.98341835  bias: 1.06925297\n",
      "epoch: 21  loss: 21.04789543  weight: 1.98339725  bias: 1.06996012\n",
      "epoch: 22  loss: 21.04739761  weight: 1.98337615  bias: 1.07066691\n",
      "epoch: 23  loss: 21.04689789  weight: 1.98335540  bias: 1.07137334\n",
      "epoch: 24  loss: 21.04639626  weight: 1.98333418  bias: 1.07207942\n",
      "epoch: 25  loss: 21.04590034  weight: 1.98331320  bias: 1.07278526\n",
      "epoch: 26  loss: 21.04540443  weight: 1.98329246  bias: 1.07349074\n",
      "epoch: 27  loss: 21.04490280  weight: 1.98327124  bias: 1.07419586\n",
      "epoch: 28  loss: 21.04440689  weight: 1.98325062  bias: 1.07490063\n",
      "epoch: 29  loss: 21.04391098  weight: 1.98322940  bias: 1.07560503\n",
      "epoch: 30  loss: 21.04341507  weight: 1.98320866  bias: 1.07630908\n",
      "epoch: 31  loss: 21.04292297  weight: 1.98318768  bias: 1.07701278\n",
      "epoch: 32  loss: 21.04242516  weight: 1.98316681  bias: 1.07771623\n",
      "epoch: 33  loss: 21.04193306  weight: 1.98314595  bias: 1.07841933\n",
      "epoch: 34  loss: 21.04143715  weight: 1.98312485  bias: 1.07912207\n",
      "epoch: 35  loss: 21.04093933  weight: 1.98310423  bias: 1.07982445\n",
      "epoch: 36  loss: 21.04045486  weight: 1.98308313  bias: 1.08052647\n",
      "epoch: 37  loss: 21.03996086  weight: 1.98306239  bias: 1.08122814\n",
      "epoch: 38  loss: 21.03946304  weight: 1.98304164  bias: 1.08192945\n",
      "epoch: 39  loss: 21.03897476  weight: 1.98302066  bias: 1.08263052\n",
      "epoch: 40  loss: 21.03848457  weight: 1.98299992  bias: 1.08333123\n",
      "epoch: 41  loss: 21.03798866  weight: 1.98297918  bias: 1.08403158\n",
      "epoch: 42  loss: 21.03750420  weight: 1.98295832  bias: 1.08473158\n",
      "epoch: 43  loss: 21.03701019  weight: 1.98293757  bias: 1.08543122\n",
      "epoch: 44  loss: 21.03651810  weight: 1.98291671  bias: 1.08613050\n",
      "epoch: 45  loss: 21.03603554  weight: 1.98289609  bias: 1.08682954\n",
      "epoch: 46  loss: 21.03554726  weight: 1.98287511  bias: 1.08752823\n",
      "epoch: 47  loss: 21.03505707  weight: 1.98285460  bias: 1.08822656\n",
      "epoch: 48  loss: 21.03456879  weight: 1.98283374  bias: 1.08892453\n",
      "epoch: 49  loss: 21.03408241  weight: 1.98281300  bias: 1.08962214\n",
      "epoch: 50  loss: 21.03359604  weight: 1.98279238  bias: 1.09031940\n"
     ]
    },
    {
     "data": {
      "text/plain": [
       "[tensor(21.0580, grad_fn=<MseLossBackward>),\n",
       " tensor(21.0575, grad_fn=<MseLossBackward>),\n",
       " tensor(21.0570, grad_fn=<MseLossBackward>),\n",
       " tensor(21.0565, grad_fn=<MseLossBackward>),\n",
       " tensor(21.0560, grad_fn=<MseLossBackward>),\n",
       " tensor(21.0555, grad_fn=<MseLossBackward>),\n",
       " tensor(21.0550, grad_fn=<MseLossBackward>),\n",
       " tensor(21.0544, grad_fn=<MseLossBackward>),\n",
       " tensor(21.0539, grad_fn=<MseLossBackward>),\n",
       " tensor(21.0534, grad_fn=<MseLossBackward>),\n",
       " tensor(21.0529, grad_fn=<MseLossBackward>),\n",
       " tensor(21.0524, grad_fn=<MseLossBackward>),\n",
       " tensor(21.0519, grad_fn=<MseLossBackward>),\n",
       " tensor(21.0514, grad_fn=<MseLossBackward>),\n",
       " tensor(21.0509, grad_fn=<MseLossBackward>),\n",
       " tensor(21.0504, grad_fn=<MseLossBackward>),\n",
       " tensor(21.0499, grad_fn=<MseLossBackward>),\n",
       " tensor(21.0494, grad_fn=<MseLossBackward>),\n",
       " tensor(21.0489, grad_fn=<MseLossBackward>),\n",
       " tensor(21.0484, grad_fn=<MseLossBackward>),\n",
       " tensor(21.0479, grad_fn=<MseLossBackward>),\n",
       " tensor(21.0474, grad_fn=<MseLossBackward>),\n",
       " tensor(21.0469, grad_fn=<MseLossBackward>),\n",
       " tensor(21.0464, grad_fn=<MseLossBackward>),\n",
       " tensor(21.0459, grad_fn=<MseLossBackward>),\n",
       " tensor(21.0454, grad_fn=<MseLossBackward>),\n",
       " tensor(21.0449, grad_fn=<MseLossBackward>),\n",
       " tensor(21.0444, grad_fn=<MseLossBackward>),\n",
       " tensor(21.0439, grad_fn=<MseLossBackward>),\n",
       " tensor(21.0434, grad_fn=<MseLossBackward>),\n",
       " tensor(21.0429, grad_fn=<MseLossBackward>),\n",
       " tensor(21.0424, grad_fn=<MseLossBackward>),\n",
       " tensor(21.0419, grad_fn=<MseLossBackward>),\n",
       " tensor(21.0414, grad_fn=<MseLossBackward>),\n",
       " tensor(21.0409, grad_fn=<MseLossBackward>),\n",
       " tensor(21.0405, grad_fn=<MseLossBackward>),\n",
       " tensor(21.0400, grad_fn=<MseLossBackward>),\n",
       " tensor(21.0395, grad_fn=<MseLossBackward>),\n",
       " tensor(21.0390, grad_fn=<MseLossBackward>),\n",
       " tensor(21.0385, grad_fn=<MseLossBackward>),\n",
       " tensor(21.0380, grad_fn=<MseLossBackward>),\n",
       " tensor(21.0375, grad_fn=<MseLossBackward>),\n",
       " tensor(21.0370, grad_fn=<MseLossBackward>),\n",
       " tensor(21.0365, grad_fn=<MseLossBackward>),\n",
       " tensor(21.0360, grad_fn=<MseLossBackward>),\n",
       " tensor(21.0355, grad_fn=<MseLossBackward>),\n",
       " tensor(21.0351, grad_fn=<MseLossBackward>),\n",
       " tensor(21.0346, grad_fn=<MseLossBackward>),\n",
       " tensor(21.0341, grad_fn=<MseLossBackward>),\n",
       " tensor(21.0336, grad_fn=<MseLossBackward>)]"
      ]
     },
     "execution_count": 28,
     "metadata": {},
     "output_type": "execute_result"
    }
   ],
   "source": [
    "epochs = 50\n",
    "losses = []\n",
    "\n",
    "for i in range(epochs):\n",
    "    i+=1\n",
    "    y_pred = model.forward(X)\n",
    "    loss = linear_loss_func(y_pred, y)\n",
    "    losses.append(loss)\n",
    "    print(f'epoch: {i:2}  loss: {loss.item():10.8f}  weight: {model.linear.weight.item():10.8f}  \\\n",
    "bias: {model.linear.bias.item():10.8f}') \n",
    "    optimizer.zero_grad()\n",
    "    loss.backward()\n",
    "    optimizer.step()\n",
    "losses"
   ]
  },
  {
   "cell_type": "markdown",
   "id": "82a11d2d",
   "metadata": {},
   "source": [
    "# Plot the results of losses"
   ]
  },
  {
   "cell_type": "code",
   "execution_count": null,
   "id": "b9f110e5",
   "metadata": {},
   "outputs": [],
   "source": []
  },
  {
   "cell_type": "markdown",
   "id": "e40469f6",
   "metadata": {},
   "source": [
    "# Final results"
   ]
  },
  {
   "cell_type": "code",
   "execution_count": 35,
   "id": "13ea144a",
   "metadata": {},
   "outputs": [
    {
     "name": "stdout",
     "output_type": "stream",
     "text": [
      "Current weight: 1.98277164, Current bias: 1.09101629\n",
      "\n",
      "[ 1. 50.]\n",
      "[  3.073788 100.2296  ]\n"
     ]
    }
   ],
   "source": [
    "w1,b1 = model.linear.weight.item(), model.linear.bias.item()\n",
    "print(f'Current weight: {w1:.8f}, Current bias: {b1:.8f}')\n",
    "print()\n",
    "\n",
    "y1 = x1*w1 + b1\n",
    "print(x1)\n",
    "print(y1)"
   ]
  },
  {
   "cell_type": "code",
   "execution_count": 36,
   "id": "338b6efe",
   "metadata": {},
   "outputs": [
    {
     "data": {
      "image/png": "[encoded data removed]",
      "text/plain": [
       "<Figure size 432x288 with 1 Axes>"
      ]
     },
     "metadata": {
      "needs_background": "light"
     },
     "output_type": "display_data"
    }
   ],
   "source": [
    "plt.scatter(X.numpy(), y.numpy())\n",
    "plt.plot(x1,y1,'r')\n",
    "plt.title('Current Model')\n",
    "plt.ylabel('y')\n",
    "plt.xlabel('x');"
   ]
  },
  {
   "cell_type": "markdown",
   "id": "f206704d",
   "metadata": {},
   "source": [
    "# Finish."
   ]
  },
  {
   "cell_type": "code",
   "execution_count": null,
   "id": "99460eb2",
   "metadata": {},
   "outputs": [],
   "source": []
  }
 ],
 "metadata": {
  "kernelspec": {
   "display_name": "Python 3.9.4 64-bit",
   "language": "python",
   "name": "python394jvsc74a57bd0aee8b7b246df8f9039afb4144a1f6fd8d2ca17a180786b69acc140d282b71a49"
  },
  "language_info": {
   "codemirror_mode": {
    "name": "ipython",
    "version": 3
   },
   "file_extension": ".py",
   "mimetype": "text/x-python",
   "name": "python",
   "nbconvert_exporter": "python",
   "pygments_lexer": "ipython3",
   "version": "3.9.4"
  }
 },
 "nbformat": 4,
 "nbformat_minor": 5
}
